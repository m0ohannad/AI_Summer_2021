{
 "cells": [
  {
   "cell_type": "markdown",
   "metadata": {},
   "source": [
    "# Functions"
   ]
  },
  {
   "cell_type": "code",
   "execution_count": null,
   "metadata": {},
   "outputs": [],
   "source": [
    "list_1 = [21, 0, 72, 2, 5]\n",
    "\n",
    "length = 0\n",
    "for element in list_1:\n",
    "    length += 1\n",
    "    \n",
    "print(length)\n",
    "len(list_1)"
   ]
  },
  {
   "cell_type": "code",
   "execution_count": null,
   "metadata": {},
   "outputs": [],
   "source": [
    "a_list = [4444, 8897, 6340, 9896, 4835, 4324, 10, 6445,\n",
    "          661, 1246, 1000, 7429, 1376, 8121, 647, 1280,\n",
    "          3993, 4881, 9500, 6701, 1199, 6251, 4432, 37]\n",
    "sum_manual = 0\n",
    "for list_element in a_list:\n",
    "    sum_manual += list_element\n",
    "\n",
    "print(sum_manual)\n",
    "sum(a_list)"
   ]
  },
  {
   "cell_type": "code",
   "execution_count": null,
   "metadata": {},
   "outputs": [],
   "source": [
    "def square(a_number):\n",
    "    squared_number = a_number * a_number\n",
    "    return squared_number\n",
    "\n",
    "#def square(a_number):\n",
    "#    return a_number * a_number\n",
    "    \n",
    "a = 7\n",
    "print(square(a))\n",
    "b = square(a_number=2)\n",
    "b"
   ]
  },
  {
   "cell_type": "code",
   "execution_count": null,
   "metadata": {},
   "outputs": [],
   "source": [
    "opened_file = open('AppleStore.csv', encoding= 'utf8')\n",
    "from csv import reader\n",
    "read_file = reader(opened_file)\n",
    "apps_data = list(read_file)\n",
    "\n",
    "def extract(index):\n",
    "    column = []    \n",
    "    for row in apps_data[1:]:\n",
    "        value = row[index]\n",
    "        column.append(value)    \n",
    "    return column\n",
    "\n",
    "genres = extract(11)\n",
    "print(genres[:5])\n",
    "#8"
   ]
  },
  {
   "cell_type": "code",
   "execution_count": null,
   "metadata": {},
   "outputs": [],
   "source": [
    "def add(a, b):\n",
    "    return a+b\n",
    "add(a=9, b=11)\n",
    "#9"
   ]
  },
  {
   "cell_type": "code",
   "execution_count": null,
   "metadata": {},
   "outputs": [],
   "source": [
    "opened_file = open('AppleStore.csv', encoding = 'utf8')\n",
    "from csv import reader\n",
    "read_file = reader(opened_file)\n",
    "apps_data = list(read_file)\n",
    "\n",
    "def extract(data_set, index):\n",
    "    column = []    \n",
    "    for row in data_set[1:]:\n",
    "        value = row[index]\n",
    "        column.append(value)    \n",
    "    return column\n",
    "\n",
    "def find_sum(a_list):\n",
    "    a_sum = 0\n",
    "    for element in a_list:\n",
    "        a_sum += float(element)\n",
    "    return a_sum\n",
    "\n",
    "def find_length(a_list):\n",
    "    length = 0\n",
    "    for element in a_list:\n",
    "        length += 1\n",
    "    return length\n",
    "\n",
    "def mean(data_set, index):\n",
    "    column = extract(data_set, index)\n",
    "    return find_sum(column) / find_length(column)\n",
    "    \n",
    "avg_price = mean(apps_data, 4)"
   ]
  },
  {
   "cell_type": "code",
   "execution_count": null,
   "metadata": {},
   "outputs": [],
   "source": [
    "a_list = [1, 8, 10, 9, 7]\n",
    "print(max(a_list))\n",
    "def max(a_list):\n",
    "    return \"No max value returned\"\n",
    "\n",
    "max_val_test_0 = max(a_list)\n",
    "print(max_val_test_0)"
   ]
  },
  {
   "cell_type": "code",
   "execution_count": null,
   "metadata": {},
   "outputs": [],
   "source": [
    "sum = 5 + 12\n",
    "list_1 = [5, 10, 15]\n",
    "sum(list_1)"
   ]
  },
  {
   "cell_type": "code",
   "execution_count": null,
   "metadata": {},
   "outputs": [],
   "source": [
    "def open_dataset(file_name='AppleStore.csv', encoding = 'utf8'):\n",
    "    \n",
    "    opened_file = open(file_name)\n",
    "    from csv import reader\n",
    "    read_file = reader(opened_file)\n",
    "    data = list(read_file)\n",
    "    \n",
    "    return data\n",
    "\n",
    "apps_data = open_dataset()"
   ]
  },
  {
   "cell_type": "code",
   "execution_count": null,
   "metadata": {},
   "outputs": [],
   "source": [
    "def sum_or_difference(a, b, do_sum=True):\n",
    "    if do_sum:\n",
    "        return a + b\n",
    "    return a - b\n",
    "print(sum_or_difference(10, 5, do_sum=True))\n",
    "print(sum_or_difference(10, 5, do_sum=False))\n",
    "#5"
   ]
  },
  {
   "cell_type": "code",
   "execution_count": null,
   "metadata": {},
   "outputs": [],
   "source": [
    "def sum_and_difference(a, b):\n",
    "    a_sum = a + b\n",
    "    difference = a - b\n",
    "    \n",
    "    return a_sum, difference\n",
    "\n",
    "sum_diff = sum_and_difference(15, 5)\n",
    "print(type(sum_diff))\n",
    "sum_diff"
   ]
  },
  {
   "cell_type": "code",
   "execution_count": null,
   "metadata": {},
   "outputs": [],
   "source": [
    "def sum_and_difference(a, b):\n",
    "    a_sum = a + b\n",
    "    difference = a - b\n",
    "    \n",
    "    return a_sum, difference\n",
    "\n",
    "a_sum, a_diff = sum_and_difference(15, 5)\n",
    "print(a_sum)\n",
    "print(a_diff)\n",
    "print(type(a_sum), type(a_diff))"
   ]
  },
  {
   "cell_type": "code",
   "execution_count": null,
   "metadata": {},
   "outputs": [],
   "source": []
  }
 ],
 "metadata": {
  "kernelspec": {
   "display_name": "Python 3",
   "language": "python",
   "name": "python3"
  },
  "language_info": {
   "codemirror_mode": {
    "name": "ipython",
    "version": 3
   },
   "file_extension": ".py",
   "mimetype": "text/x-python",
   "name": "python",
   "nbconvert_exporter": "python",
   "pygments_lexer": "ipython3",
   "version": "3.8.5"
  }
 },
 "nbformat": 4,
 "nbformat_minor": 4
}
