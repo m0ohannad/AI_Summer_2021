{
 "cells": [
  {
   "cell_type": "markdown",
   "metadata": {},
   "source": [
    "# Dictionaries and Frequency Tables"
   ]
  },
  {
   "cell_type": "code",
   "execution_count": null,
   "metadata": {},
   "outputs": [],
   "source": [
    "# Two lists\n",
    "content_ratings = ['4+', '9+', '12+', '17+']\n",
    "nums = [4433, 987, 1155, 622]"
   ]
  },
  {
   "cell_type": "code",
   "execution_count": null,
   "metadata": {},
   "outputs": [],
   "source": [
    "# A list of lists\n",
    "content_rating_numbers = [['4+', '9+', '12+', '17+'],\n",
    "                          [4433, 987, 1155, 622]]"
   ]
  },
  {
   "cell_type": "code",
   "execution_count": null,
   "metadata": {},
   "outputs": [],
   "source": [
    "# Dictionary\n",
    "content_ratings = {'4+': 4433, '9+': 987, '12+': 1155, '17+': 622}\n",
    "\n",
    "\n",
    "over_9 = content_ratings['9+']\n",
    "over_17 = content_ratings['17+']\n",
    "\n",
    "print(over_9)\n",
    "print(over_17)"
   ]
  },
  {
   "cell_type": "code",
   "execution_count": null,
   "metadata": {},
   "outputs": [],
   "source": [
    "content_ratings = {}\n",
    "content_ratings ['4+']  = 4433\n",
    "content_ratings ['9+']  = 987\n",
    "content_ratings ['12+'] = 1155\n",
    "content_ratings ['17+'] = 622"
   ]
  },
  {
   "cell_type": "code",
   "execution_count": null,
   "metadata": {},
   "outputs": [],
   "source": [
    "d_1 = {'key_1': 'first_value', \n",
    "        'key_2': 2,\n",
    "        'key_3': 3.14,\n",
    "        'key_4': True,\n",
    "        'key_5': [4,2,1],\n",
    "        'key_6': {'inner_key' : 6}\n",
    "       }"
   ]
  },
  {
   "cell_type": "code",
   "execution_count": null,
   "metadata": {},
   "outputs": [],
   "source": [
    "d_2 = {5: 'int',\n",
    "       '5': 'string',\n",
    "       3.5: 'float',\n",
    "       False: 'Boolean'    \n",
    "        }"
   ]
  },
  {
   "cell_type": "code",
   "execution_count": null,
   "metadata": {},
   "outputs": [],
   "source": [
    "d_3 = {[1,2,3]: 'list',\n",
    "      {'key'; 'value'}: 'dictionary'}"
   ]
  },
  {
   "cell_type": "code",
   "execution_count": null,
   "metadata": {},
   "outputs": [],
   "source": [
    "d = {'a_key': 1,\n",
    "     'another_key': 2,\n",
    "    'a_key': 3,\n",
    "    'yet_another_key': 4,\n",
    "    'a_key': 5}\n",
    "\n",
    "print(d)"
   ]
  },
  {
   "cell_type": "code",
   "execution_count": null,
   "metadata": {},
   "outputs": [],
   "source": [
    "d_1 = {1: 'one', True: 'Boolean'}\n",
    "d_2 = {False: 'Bool', 0:'zero'}\n",
    "d_3 = {0:'zero', 1: 'one', 2: 'two', True: 'true', False: 'false'}\n",
    "\n",
    "print(d_1)\n",
    "print(d_2)\n",
    "print(d_3)"
   ]
  },
  {
   "cell_type": "code",
   "execution_count": null,
   "metadata": {},
   "outputs": [],
   "source": [
    "content_ratings = {'4+': 4433, '9+': 987, '12+': 1155, '17+': 622}\n",
    "\n",
    "is_in_dictionary_1 = '9+' in content_ratings\n",
    "is_in_dictionary_2 = 987 in content_ratings\n",
    "\n",
    "if '17+' in content_ratings:\n",
    "    result = \"It exists\"\n",
    "    print(result)"
   ]
  },
  {
   "cell_type": "code",
   "execution_count": null,
   "metadata": {},
   "outputs": [],
   "source": [
    "content_ratings = {'4+': 0, '9+': 0, '12+': 0, '17+': 0}\n",
    "ratings = ['4+', '4+', '4+', '9+', '12+', '17+']\n",
    "for c_rating in ratings:\n",
    "    if c_rating in content_ratings:\n",
    "        content_ratings[c_rating] += 1\n",
    "        \n",
    "print(content_ratings)        "
   ]
  },
  {
   "cell_type": "code",
   "execution_count": null,
   "metadata": {},
   "outputs": [],
   "source": [
    "content_ratings = {}\n",
    "ratings = ['4+', '4+', '4+', '9+', '12+', '17+']\n",
    "for c_rating in ratings:\n",
    "    if c_rating in content_ratings:\n",
    "        content_ratings[c_rating] += 1\n",
    "    else:\n",
    "        content_ratings[c_rating] = 1\n",
    "    print(content_ratings)\n",
    "\n",
    "print('Final dictionary:')\n",
    "print(content_ratings)\n",
    "#9"
   ]
  },
  {
   "cell_type": "code",
   "execution_count": null,
   "metadata": {},
   "outputs": [],
   "source": []
  }
 ],
 "metadata": {
  "kernelspec": {
   "display_name": "Python 3",
   "language": "python",
   "name": "python3"
  },
  "language_info": {
   "codemirror_mode": {
    "name": "ipython",
    "version": 3
   },
   "file_extension": ".py",
   "mimetype": "text/x-python",
   "name": "python",
   "nbconvert_exporter": "python",
   "pygments_lexer": "ipython3",
   "version": "3.7.6"
  }
 },
 "nbformat": 4,
 "nbformat_minor": 4
}
