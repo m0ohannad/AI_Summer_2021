{
 "cells": [
  {
   "cell_type": "markdown",
   "metadata": {},
   "source": [
    "# Python Data Analysis Basics\n",
    "### String Formatting and Format Specifications"
   ]
  },
  {
   "cell_type": "code",
   "execution_count": null,
   "metadata": {},
   "outputs": [],
   "source": [
    "from csv import reader\n",
    "\n",
    "# Read the `artworks_clean.csv` file\n",
    "opened_file = open('artworks_clean.csv', encoding = 'utf8')\n",
    "read_file = reader(opened_file)\n",
    "moma = list(read_file)\n",
    "moma = moma[1:]"
   ]
  },
  {
   "cell_type": "code",
   "execution_count": null,
   "metadata": {},
   "outputs": [],
   "source": [
    "# Convert the birthdate values\n",
    "for row in moma:\n",
    "    birth_date = row[3]\n",
    "    if birth_date != \"\":\n",
    "        birth_date = int(birth_date)\n",
    "    row[3] = birth_date\n",
    "    \n",
    "# Convert the death date values\n",
    "for row in moma:\n",
    "    death_date = row[4]\n",
    "    if death_date != \"\":\n",
    "        death_date = int(death_date)\n",
    "    row[4] = death_date\n",
    "\n",
    "# Write your code below\n",
    "for row in moma:\n",
    "    date = row[6]\n",
    "    if date != \"\":\n",
    "        date = int(date)\n",
    "    row[6] = date\n",
    "    "
   ]
  },
  {
   "cell_type": "code",
   "execution_count": null,
   "metadata": {},
   "outputs": [],
   "source": [
    "\n",
    "ages = []\n",
    "for row in moma:\n",
    "    birth = row[3]\n",
    "    date = row[6]\n",
    "    if type(birth) == int:\n",
    "        age = date - birth\n",
    "    else:\n",
    "        age = 0\n",
    "    ages.append(age)\n",
    "\n",
    "final_ages = []\n",
    "for age in ages:\n",
    "    if age > 20:\n",
    "        final_age = age\n",
    "    else:\n",
    "        final_age = \"Unknown\"\n",
    "    final_ages.append(final_age)"
   ]
  },
  {
   "cell_type": "code",
   "execution_count": null,
   "metadata": {},
   "outputs": [],
   "source": [
    "final_ages"
   ]
  },
  {
   "cell_type": "code",
   "execution_count": null,
   "metadata": {},
   "outputs": [],
   "source": [
    "decades = []\n",
    "\n",
    "for age in final_ages:\n",
    "    if age == \"Unknown\":\n",
    "        decade = age\n",
    "    else:\n",
    "        decade = str(age)\n",
    "        decade = decade[:-1]\n",
    "        decade = decade + \"0s\"\n",
    "    decades.append(decade)"
   ]
  },
  {
   "cell_type": "code",
   "execution_count": null,
   "metadata": {},
   "outputs": [],
   "source": [
    "decades"
   ]
  },
  {
   "cell_type": "code",
   "execution_count": null,
   "metadata": {},
   "outputs": [],
   "source": [
    "decade_frequency = {}\n",
    "\n",
    "for d in decades:\n",
    "    if d not in decade_frequency:\n",
    "        decade_frequency[d] = 1\n",
    "    else:\n",
    "        decade_frequency[d] += 1"
   ]
  },
  {
   "cell_type": "code",
   "execution_count": null,
   "metadata": {},
   "outputs": [],
   "source": [
    "name = \"Kylie\"\n",
    "num = 8\n",
    "output = name + \"'s favorite number is \" + str(num)\n",
    "print(output)"
   ]
  },
  {
   "cell_type": "code",
   "execution_count": null,
   "metadata": {},
   "outputs": [],
   "source": [
    "output = \"{}'s favorite number is {}\".format(\"Kylie\", 8)\n",
    "print(output)"
   ]
  },
  {
   "cell_type": "code",
   "execution_count": null,
   "metadata": {},
   "outputs": [],
   "source": [
    "output = \"{}'s favorite number is {}\".format(name, num)\n",
    "print(output)"
   ]
  },
  {
   "cell_type": "code",
   "execution_count": null,
   "metadata": {},
   "outputs": [],
   "source": [
    "output = \"{0}'s favorite number is {1}, {1} is {0}'s favorite number\".format(\"Kylie\", 8)\n",
    "print(output)"
   ]
  },
  {
   "cell_type": "code",
   "execution_count": null,
   "metadata": {},
   "outputs": [],
   "source": [
    "template = \"{name}'s favorite number is {num}, {num} is {name}'s favorite number\"\n",
    "output = template.format(name=\"Kylie\", num=\"8\")\n",
    "print(output)"
   ]
  },
  {
   "cell_type": "code",
   "execution_count": null,
   "metadata": {},
   "outputs": [],
   "source": [
    "gender_freq = {}\n",
    "\n",
    "for row in moma:\n",
    "    g = row[5]\n",
    "    if g not in gender_freq:\n",
    "        gender_freq[g] = 1\n",
    "    else:\n",
    "        gender_freq[g] += 1\n",
    "print(gender_freq)\n",
    "\n",
    "#6"
   ]
  },
  {
   "cell_type": "code",
   "execution_count": null,
   "metadata": {},
   "outputs": [],
   "source": [
    "artist_freq = {}\n",
    "\n",
    "for row in moma:\n",
    "    artist = row[1]\n",
    "    if artist not in artist_freq:\n",
    "        artist_freq[artist] = 1\n",
    "    else:\n",
    "        artist_freq[artist] += 1"
   ]
  },
  {
   "cell_type": "code",
   "execution_count": null,
   "metadata": {},
   "outputs": [],
   "source": [
    "def artist_summary(artist):\n",
    "    num_artworks = artist_freq[artist]\n",
    "    template = \"There are {num} artworks by {name} in the data set\"\n",
    "    output = template.format(name=artist, num=num_artworks)\n",
    "    print(output)\n",
    "\n",
    "artist_summary(\"Henri Matisse\")"
   ]
  },
  {
   "cell_type": "code",
   "execution_count": null,
   "metadata": {},
   "outputs": [],
   "source": [
    "num = 32.554865\n",
    "print(\"I own {pct}% of the company\".format(pct=num))"
   ]
  },
  {
   "cell_type": "code",
   "execution_count": null,
   "metadata": {},
   "outputs": [],
   "source": [
    "print(\"I own {pct:.2f}% of the company\".format(pct=num))"
   ]
  },
  {
   "cell_type": "code",
   "execution_count": null,
   "metadata": {},
   "outputs": [],
   "source": [
    "print(\"I own {:.2f}% of the company\".format(32.554865))"
   ]
  },
  {
   "cell_type": "code",
   "execution_count": null,
   "metadata": {},
   "outputs": [],
   "source": [
    "print(\"The approximate population of {0} is {1}\".format(\"India\",1324000000))"
   ]
  },
  {
   "cell_type": "code",
   "execution_count": null,
   "metadata": {},
   "outputs": [],
   "source": [
    "print(\"The approximate population of India is {0:,}\".format(1324000000))"
   ]
  },
  {
   "cell_type": "code",
   "execution_count": null,
   "metadata": {},
   "outputs": [],
   "source": [
    "print(\"Your bank balance is ${bal:,.2f}\".format(bal=12345.678))\n",
    "#8"
   ]
  },
  {
   "cell_type": "code",
   "execution_count": null,
   "metadata": {},
   "outputs": [],
   "source": [
    "fruits_freq = {\n",
    "    'orange': 4,\n",
    "    'banana': 4,\n",
    "    'apple': 2\n",
    "    }\n",
    "\n",
    "for fruit, qty in fruits_freq.items():\n",
    "    output = \"I have {q} {f}s\".format(f=fruit, q=qty)\n",
    "    print(output)\n",
    "#9"
   ]
  },
  {
   "cell_type": "code",
   "execution_count": null,
   "metadata": {},
   "outputs": [],
   "source": []
  }
 ],
 "metadata": {
  "kernelspec": {
   "display_name": "Python 3",
   "language": "python",
   "name": "python3"
  },
  "language_info": {
   "codemirror_mode": {
    "name": "ipython",
    "version": 3
   },
   "file_extension": ".py",
   "mimetype": "text/x-python",
   "name": "python",
   "nbconvert_exporter": "python",
   "pygments_lexer": "ipython3",
   "version": "3.8.5"
  }
 },
 "nbformat": 4,
 "nbformat_minor": 4
}
