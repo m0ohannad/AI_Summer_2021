{
 "cells": [
  {
   "cell_type": "markdown",
   "metadata": {},
   "source": [
    "# Cleaning and Preparing Data in Python\n",
    "### Transforming And Cleaning Strings"
   ]
  },
  {
   "cell_type": "code",
   "execution_count": null,
   "metadata": {},
   "outputs": [],
   "source": [
    "fav_color = 'red is my favorite color'\n",
    "print(fav_color)"
   ]
  },
  {
   "cell_type": "code",
   "execution_count": null,
   "metadata": {},
   "outputs": [],
   "source": [
    "fav_color = fav_color.replace('red','blue')\n",
    "print(fav_color)"
   ]
  },
  {
   "cell_type": "code",
   "execution_count": null,
   "metadata": {},
   "outputs": [],
   "source": [
    "fav_color = 'red is my favorite color'\n",
    "fav_color = fav_color.replace('r','R')\n",
    "print(fav_color)"
   ]
  },
  {
   "cell_type": "code",
   "execution_count": null,
   "metadata": {},
   "outputs": [],
   "source": [
    "a = 'hassan'.replace('h', 'H')\n",
    "a"
   ]
  },
  {
   "cell_type": "code",
   "execution_count": null,
   "metadata": {},
   "outputs": [],
   "source": [
    "open_file = open('artworks.csv', encoding = 'utf8')\n",
    "from csv import reader\n",
    "read_file = reader(open_file)\n",
    "moma = list(read_file)\n",
    "\n",
    "#print(moma[400][5])\n",
    "print(moma[1][2])"
   ]
  },
  {
   "cell_type": "code",
   "execution_count": null,
   "metadata": {},
   "outputs": [],
   "source": [
    "for row in moma[1:]:\n",
    "    nationality = row[2]\n",
    "    nationality = nationality.replace('(', '')\n",
    "    nationality = nationality.replace(')', '')\n",
    "    row[2] = nationality\n",
    "    \n",
    "print(moma[300][2])\n",
    "print(moma[400][2])\n",
    "print(moma[500][2])\n",
    "print(moma[1][2])"
   ]
  },
  {
   "cell_type": "code",
   "execution_count": null,
   "metadata": {},
   "outputs": [],
   "source": [
    "for row in moma:\n",
    "    gender = row[5]\n",
    "    gender = gender.replace(\"(\",\"\")\n",
    "    gender = gender.replace(\")\",\"\")\n",
    "    row[5] = gender\n",
    "    \n",
    "print(moma[300][5])\n",
    "print(moma[400][5])\n",
    "print(moma[500][5])"
   ]
  },
  {
   "cell_type": "code",
   "execution_count": null,
   "metadata": {},
   "outputs": [],
   "source": [
    "my_string = \"The cool thing about this string is that it has a CoMbInAtIoN of UPPERCASE and lowercase letters!\"\n",
    "\n",
    "my_string_title = my_string.title()\n",
    "print(my_string_title)"
   ]
  },
  {
   "cell_type": "code",
   "execution_count": null,
   "metadata": {
    "scrolled": false
   },
   "outputs": [],
   "source": [
    "for row in moma:\n",
    "    gender = row[5]\n",
    "\n",
    "    # convert the gender to title case\n",
    "    gender = gender.title()\n",
    "\n",
    "    # if there is no gender, set\n",
    "    # a descriptive value\n",
    "    if not gender:\n",
    "        gender = \"Gender Unknown/Other\"\n",
    "    row[5] = gender\n",
    "    \n",
    "        # fix the capitalization and missing\n",
    "    # values for the nationality column\n",
    "    nationality = row[2]\n",
    "    nationality = nationality.title()\n",
    "    if not nationality:\n",
    "        nationality = \"Nationality Unknown\"\n",
    "    row[2] = nationality\n",
    "    \n",
    "    print(row[5])\n",
    "    print(row[2])"
   ]
  },
  {
   "cell_type": "code",
   "execution_count": null,
   "metadata": {},
   "outputs": [],
   "source": [
    "for row in moma[1:5]:\n",
    "    birth_date = row[3]\n",
    "    death_date = row[4]\n",
    "    print([birth_date, death_date])"
   ]
  },
  {
   "cell_type": "code",
   "execution_count": null,
   "metadata": {},
   "outputs": [],
   "source": [
    "def clean_and_convert(date):\n",
    "    date = date.replace(\"(\", \"\")\n",
    "    date = date.replace(\")\", \"\")\n",
    "    date = int(date)\n",
    "    return date\n",
    "\n",
    "birth_date = '(1947)'\n",
    "cleaned_date = clean_and_convert(birth_date)\n",
    "print(cleaned_date)\n",
    "print(type(cleaned_date))"
   ]
  },
  {
   "cell_type": "code",
   "execution_count": null,
   "metadata": {},
   "outputs": [],
   "source": [
    "def clean_and_convert(date):\n",
    "    # check that we don't have an empty string\n",
    "    date = str(date)\n",
    "    if date != \"\":\n",
    "        # move the rest of the function inside\n",
    "        # the if statement\n",
    "        date = date.replace(\"(\", \"\")\n",
    "        date = date.replace(\")\", \"\")\n",
    "        date = date.replace(\" \", \"\")\n",
    "        #date = date.split(\" \")\n",
    "        #date = int(date)\n",
    "    return date\n",
    "for row in moma[1:]:\n",
    "    birth_date = row[3]\n",
    "    death_date = row[4]\n",
    "    \n",
    "    birth_date = clean_and_convert(birth_date)\n",
    "    death_date = clean_and_convert(death_date)\n",
    "    \n",
    "    row[3] = birth_date\n",
    "    row[4] = death_date\n",
    "    \n",
    "moma[1][4]"
   ]
  },
  {
   "cell_type": "code",
   "execution_count": null,
   "metadata": {},
   "outputs": [],
   "source": [
    "    #date = str(date)\n",
    "    #date = date.replace(\" \", \"\")"
   ]
  },
  {
   "cell_type": "code",
   "execution_count": null,
   "metadata": {},
   "outputs": [],
   "source": [
    "strings = [\"good!\", \"morn?ing\", \"good?!\", \"morniZZZZng\"]\n",
    "bad_chars = [\"!\", \"?\", \"Z\"]\n",
    "print(strings)\n",
    "def strip_characters(string):\n",
    "    for char in bad_chars:\n",
    "        string = string.replace(char,\"\")\n",
    "    return string\n",
    "\n",
    "cleaned_strings = []\n",
    "for s in strings:\n",
    "    s = strip_characters(s)\n",
    "    cleaned_strings.append(s)\n",
    "\n",
    "print(cleaned_strings)"
   ]
  },
  {
   "cell_type": "code",
   "execution_count": null,
   "metadata": {},
   "outputs": [],
   "source": [
    "if \"car\" in \"carpet\":\n",
    "    print(\"The substring was found.\")\n",
    "else:\n",
    "    print(\"The substring was not found.\")"
   ]
  },
  {
   "cell_type": "code",
   "execution_count": null,
   "metadata": {},
   "outputs": [],
   "source": [
    "if \"mike\" in \"michael\":\n",
    "    print(\"The substring was found.\")\n",
    "else:\n",
    "    print(\"The substring was not found.\")"
   ]
  },
  {
   "cell_type": "code",
   "execution_count": null,
   "metadata": {},
   "outputs": [],
   "source": [
    "three_peat = \"1991-1993\"\n",
    "print(type(three_peat))\n",
    "three_peat = three_peat.split(\"-\")\n",
    "print(three_peat)\n",
    "print(type(three_peat))\n",
    "#8"
   ]
  },
  {
   "cell_type": "code",
   "execution_count": null,
   "metadata": {},
   "outputs": [],
   "source": [
    "a = '1920 '\n",
    "a = a.split(' ')\n",
    "print(a)\n",
    "\n",
    "if a[1]:\n",
    "    print('not empty')\n",
    "else:\n",
    "    print('empty')"
   ]
  },
  {
   "cell_type": "code",
   "execution_count": null,
   "metadata": {},
   "outputs": [],
   "source": []
  }
 ],
 "metadata": {
  "kernelspec": {
   "display_name": "Python 3",
   "language": "python",
   "name": "python3"
  },
  "language_info": {
   "codemirror_mode": {
    "name": "ipython",
    "version": 3
   },
   "file_extension": ".py",
   "mimetype": "text/x-python",
   "name": "python",
   "nbconvert_exporter": "python",
   "pygments_lexer": "ipython3",
   "version": "3.8.5"
  }
 },
 "nbformat": 4,
 "nbformat_minor": 4
}
